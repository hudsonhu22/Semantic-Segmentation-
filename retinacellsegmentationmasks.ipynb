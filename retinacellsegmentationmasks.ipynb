{
 "cells": [
  {
   "cell_type": "markdown",
   "id": "ec977322",
   "metadata": {
    "papermill": {
     "duration": 0.003913,
     "end_time": "2024-01-05T02:09:40.333112",
     "exception": false,
     "start_time": "2024-01-05T02:09:40.329199",
     "status": "completed"
    },
    "tags": []
   },
   "source": [
    "# Library Imports"
   ]
  },
  {
   "cell_type": "code",
   "execution_count": 1,
   "id": "90451d05",
   "metadata": {
    "execution": {
     "iopub.execute_input": "2024-01-05T02:09:40.342501Z",
     "iopub.status.busy": "2024-01-05T02:09:40.342057Z",
     "iopub.status.idle": "2024-01-05T02:09:53.660730Z",
     "shell.execute_reply": "2024-01-05T02:09:53.659798Z"
    },
    "papermill": {
     "duration": 13.326434,
     "end_time": "2024-01-05T02:09:53.663509",
     "exception": false,
     "start_time": "2024-01-05T02:09:40.337075",
     "status": "completed"
    },
    "tags": []
   },
   "outputs": [],
   "source": [
    "import numpy as np\n",
    "import pandas as pd\n",
    "import tensorflow as tf\n",
    "from tensorflow import keras\n",
    "from tensorflow.keras import Sequential, layers\n",
    "from tensorflow.keras.metrics import Precision\n",
    "from tensorflow.keras.preprocessing.image import ImageDataGenerator"
   ]
  },
  {
   "cell_type": "markdown",
   "id": "3b9135ba",
   "metadata": {
    "papermill": {
     "duration": 0.003137,
     "end_time": "2024-01-05T02:09:53.670342",
     "exception": false,
     "start_time": "2024-01-05T02:09:53.667205",
     "status": "completed"
    },
    "tags": []
   },
   "source": [
    "# Data Processing"
   ]
  },
  {
   "cell_type": "code",
   "execution_count": 2,
   "id": "1be1a81d",
   "metadata": {
    "execution": {
     "iopub.execute_input": "2024-01-05T02:09:53.679465Z",
     "iopub.status.busy": "2024-01-05T02:09:53.678264Z",
     "iopub.status.idle": "2024-01-05T02:09:53.925876Z",
     "shell.execute_reply": "2024-01-05T02:09:53.925020Z"
    },
    "papermill": {
     "duration": 0.254536,
     "end_time": "2024-01-05T02:09:53.928240",
     "exception": false,
     "start_time": "2024-01-05T02:09:53.673704",
     "status": "completed"
    },
    "tags": []
   },
   "outputs": [
    {
     "name": "stdout",
     "output_type": "stream",
     "text": [
      "Found 160 files belonging to 2 classes.\n",
      "Using 128 files for training.\n",
      "Using 32 files for validation.\n",
      "Found 40 files belonging to 2 classes.\n"
     ]
    }
   ],
   "source": [
    "batch_size = 20\n",
    "epochs=20\n",
    "class_num=2\n",
    "train_data, val_data = tf.keras.utils.image_dataset_from_directory('/kaggle/input/retina-blood-vessel/Data/train', batch_size=batch_size, validation_split=0.2, subset=\"both\", shuffle=True, seed=123)\n",
    "test_data = tf.keras.utils.image_dataset_from_directory('/kaggle/input/retina-blood-vessel/Data/test', batch_size=10)"
   ]
  },
  {
   "cell_type": "markdown",
   "id": "a5cbd9eb",
   "metadata": {
    "papermill": {
     "duration": 0.003496,
     "end_time": "2024-01-05T02:09:53.935929",
     "exception": false,
     "start_time": "2024-01-05T02:09:53.932433",
     "status": "completed"
    },
    "tags": []
   },
   "source": [
    "# Building The Model"
   ]
  },
  {
   "cell_type": "code",
   "execution_count": 3,
   "id": "d0b6e872",
   "metadata": {
    "execution": {
     "iopub.execute_input": "2024-01-05T02:09:53.944734Z",
     "iopub.status.busy": "2024-01-05T02:09:53.944364Z",
     "iopub.status.idle": "2024-01-05T02:09:54.373239Z",
     "shell.execute_reply": "2024-01-05T02:09:54.371951Z"
    },
    "papermill": {
     "duration": 0.449051,
     "end_time": "2024-01-05T02:09:54.388608",
     "exception": false,
     "start_time": "2024-01-05T02:09:53.939557",
     "status": "completed"
    },
    "tags": []
   },
   "outputs": [
    {
     "name": "stdout",
     "output_type": "stream",
     "text": [
      "Model: \"sequential\"\n",
      "_________________________________________________________________\n",
      " Layer (type)                Output Shape              Param #   \n",
      "=================================================================\n",
      " conv2d (Conv2D)             (20, 256, 256, 32)        896       \n",
      "                                                                 \n",
      " max_pooling2d (MaxPooling2  (20, 85, 85, 32)          0         \n",
      " D)                                                              \n",
      "                                                                 \n",
      " batch_normalization (Batch  (20, 85, 85, 32)          128       \n",
      " Normalization)                                                  \n",
      "                                                                 \n",
      " conv2d_1 (Conv2D)           (20, 85, 85, 64)          18496     \n",
      "                                                                 \n",
      " max_pooling2d_1 (MaxPoolin  (20, 28, 28, 64)          0         \n",
      " g2D)                                                            \n",
      "                                                                 \n",
      " batch_normalization_1 (Bat  (20, 28, 28, 64)          256       \n",
      " chNormalization)                                                \n",
      "                                                                 \n",
      " conv2d_2 (Conv2D)           (20, 28, 28, 64)          36928     \n",
      "                                                                 \n",
      " max_pooling2d_2 (MaxPoolin  (20, 9, 9, 64)            0         \n",
      " g2D)                                                            \n",
      "                                                                 \n",
      " batch_normalization_2 (Bat  (20, 9, 9, 64)            256       \n",
      " chNormalization)                                                \n",
      "                                                                 \n",
      " conv2d_3 (Conv2D)           (20, 9, 9, 128)           73856     \n",
      "                                                                 \n",
      " max_pooling2d_3 (MaxPoolin  (20, 3, 3, 128)           0         \n",
      " g2D)                                                            \n",
      "                                                                 \n",
      " batch_normalization_3 (Bat  (20, 3, 3, 128)           512       \n",
      " chNormalization)                                                \n",
      "                                                                 \n",
      " conv2d_4 (Conv2D)           (20, 3, 3, 256)           295168    \n",
      "                                                                 \n",
      " max_pooling2d_4 (MaxPoolin  (20, 1, 1, 256)           0         \n",
      " g2D)                                                            \n",
      "                                                                 \n",
      " batch_normalization_4 (Bat  (20, 1, 1, 256)           1024      \n",
      " chNormalization)                                                \n",
      "                                                                 \n",
      " global_average_pooling2d (  (20, 256)                 0         \n",
      " GlobalAveragePooling2D)                                         \n",
      "                                                                 \n",
      " dense (Dense)               (20, 60)                  15420     \n",
      "                                                                 \n",
      " batch_normalization_5 (Bat  (20, 60)                  240       \n",
      " chNormalization)                                                \n",
      "                                                                 \n",
      " dropout (Dropout)           (20, 60)                  0         \n",
      "                                                                 \n",
      " dense_1 (Dense)             (20, 40)                  2440      \n",
      "                                                                 \n",
      " batch_normalization_6 (Bat  (20, 40)                  160       \n",
      " chNormalization)                                                \n",
      "                                                                 \n",
      " dropout_1 (Dropout)         (20, 40)                  0         \n",
      "                                                                 \n",
      " dense_2 (Dense)             (20, 20)                  820       \n",
      "                                                                 \n",
      " batch_normalization_7 (Bat  (20, 20)                  80        \n",
      " chNormalization)                                                \n",
      "                                                                 \n",
      " dense_3 (Dense)             (20, 2)                   42        \n",
      "                                                                 \n",
      "=================================================================\n",
      "Total params: 446722 (1.70 MB)\n",
      "Trainable params: 445394 (1.70 MB)\n",
      "Non-trainable params: 1328 (5.19 KB)\n",
      "_________________________________________________________________\n",
      "None\n"
     ]
    }
   ],
   "source": [
    "model = keras.Sequential([\n",
    "    layers.InputLayer(input_shape=(256, 256, 3), batch_size=batch_size),\n",
    "    \n",
    "    layers.Conv2D(filters=32, kernel_size=3, strides=1, activation='relu', padding=\"same\"),\n",
    "    layers.MaxPool2D(pool_size=(3,3)),\n",
    "    layers.BatchNormalization(),\n",
    "    \n",
    "    layers.Conv2D(filters=64, kernel_size=3, strides=1, activation='relu', padding=\"same\"),\n",
    "    layers.MaxPool2D(pool_size=(3,3)),\n",
    "    layers.BatchNormalization(),\n",
    "     \n",
    "    layers.Conv2D(filters=64, kernel_size=3, strides=1, activation='relu', padding=\"same\"),\n",
    "    layers.MaxPool2D(pool_size=(3,3)),\n",
    "    layers.BatchNormalization(),\n",
    "    \n",
    "    layers.Conv2D(filters=128, kernel_size=3, strides=1, activation='relu', padding=\"same\"),\n",
    "    layers.MaxPool2D(pool_size=(3,3)),\n",
    "    layers.BatchNormalization(),\n",
    "    \n",
    "    layers.Conv2D(filters=256, kernel_size=3, strides=1, activation='relu', padding=\"same\"),\n",
    "    layers.MaxPool2D(pool_size=(3,3)),\n",
    "    layers.BatchNormalization(),\n",
    "    \n",
    "    layers.GlobalAveragePooling2D(),\n",
    "    layers.Dense(batch_size*3, activation=\"relu\"),\n",
    "    layers.BatchNormalization(),\n",
    "    layers.Dropout(0.3),\n",
    "    layers.Dense(batch_size*2, activation=\"relu\"),\n",
    "    layers.BatchNormalization(),\n",
    "    layers.Dropout(0.3),\n",
    "    layers.Dense(batch_size, activation=\"relu\"),\n",
    "    layers.BatchNormalization(),\n",
    "    layers.Dense(class_num, activation=\"softmax\")\n",
    "    ])\n",
    "print(model.summary())"
   ]
  },
  {
   "cell_type": "code",
   "execution_count": 4,
   "id": "8072fdc4",
   "metadata": {
    "execution": {
     "iopub.execute_input": "2024-01-05T02:09:54.407024Z",
     "iopub.status.busy": "2024-01-05T02:09:54.406636Z",
     "iopub.status.idle": "2024-01-05T02:09:54.424979Z",
     "shell.execute_reply": "2024-01-05T02:09:54.423955Z"
    },
    "papermill": {
     "duration": 0.030305,
     "end_time": "2024-01-05T02:09:54.427241",
     "exception": false,
     "start_time": "2024-01-05T02:09:54.396936",
     "status": "completed"
    },
    "tags": []
   },
   "outputs": [],
   "source": [
    "model.compile(loss='sparse_categorical_crossentropy', optimizer='adam', metrics=['accuracy'])"
   ]
  },
  {
   "cell_type": "markdown",
   "id": "253b6579",
   "metadata": {
    "papermill": {
     "duration": 0.008023,
     "end_time": "2024-01-05T02:09:54.443578",
     "exception": false,
     "start_time": "2024-01-05T02:09:54.435555",
     "status": "completed"
    },
    "tags": []
   },
   "source": [
    "# Training The Model"
   ]
  },
  {
   "cell_type": "code",
   "execution_count": 5,
   "id": "b916ac01",
   "metadata": {
    "execution": {
     "iopub.execute_input": "2024-01-05T02:09:54.461941Z",
     "iopub.status.busy": "2024-01-05T02:09:54.461509Z",
     "iopub.status.idle": "2024-01-05T02:11:50.376007Z",
     "shell.execute_reply": "2024-01-05T02:11:50.374886Z"
    },
    "papermill": {
     "duration": 115.927038,
     "end_time": "2024-01-05T02:11:50.378614",
     "exception": false,
     "start_time": "2024-01-05T02:09:54.451576",
     "status": "completed"
    },
    "tags": []
   },
   "outputs": [
    {
     "name": "stdout",
     "output_type": "stream",
     "text": [
      "Epoch 1/20\n",
      "7/7 [==============================] - 10s 753ms/step - loss: 0.4437 - accuracy: 0.8203 - val_loss: 0.9445 - val_accuracy: 0.6250\n",
      "Epoch 2/20\n",
      "7/7 [==============================] - 5s 672ms/step - loss: 0.1429 - accuracy: 0.9688 - val_loss: 1.0468 - val_accuracy: 0.6250\n",
      "Epoch 3/20\n",
      "7/7 [==============================] - 5s 664ms/step - loss: 0.0886 - accuracy: 0.9844 - val_loss: 1.2923 - val_accuracy: 0.6250\n",
      "Epoch 4/20\n",
      "7/7 [==============================] - 5s 666ms/step - loss: 0.1091 - accuracy: 0.9844 - val_loss: 1.2885 - val_accuracy: 0.6250\n",
      "Epoch 5/20\n",
      "7/7 [==============================] - 5s 672ms/step - loss: 0.0740 - accuracy: 0.9922 - val_loss: 0.9966 - val_accuracy: 0.6250\n",
      "Epoch 6/20\n",
      "7/7 [==============================] - 5s 667ms/step - loss: 0.0606 - accuracy: 0.9844 - val_loss: 0.6857 - val_accuracy: 0.6250\n",
      "Epoch 7/20\n",
      "7/7 [==============================] - 5s 673ms/step - loss: 0.0587 - accuracy: 0.9844 - val_loss: 0.3968 - val_accuracy: 0.8125\n",
      "Epoch 8/20\n",
      "7/7 [==============================] - 5s 704ms/step - loss: 0.0493 - accuracy: 0.9922 - val_loss: 0.2157 - val_accuracy: 0.9375\n",
      "Epoch 9/20\n",
      "7/7 [==============================] - 5s 663ms/step - loss: 0.0421 - accuracy: 0.9922 - val_loss: 0.1337 - val_accuracy: 0.9375\n",
      "Epoch 10/20\n",
      "7/7 [==============================] - 5s 660ms/step - loss: 0.0398 - accuracy: 0.9844 - val_loss: 0.0777 - val_accuracy: 0.9688\n",
      "Epoch 11/20\n",
      "7/7 [==============================] - 5s 672ms/step - loss: 0.0408 - accuracy: 0.9922 - val_loss: 0.0175 - val_accuracy: 1.0000\n",
      "Epoch 12/20\n",
      "7/7 [==============================] - 5s 669ms/step - loss: 0.0402 - accuracy: 0.9844 - val_loss: 0.0077 - val_accuracy: 1.0000\n",
      "Epoch 13/20\n",
      "7/7 [==============================] - 5s 672ms/step - loss: 0.0722 - accuracy: 0.9844 - val_loss: 0.0050 - val_accuracy: 1.0000\n",
      "Epoch 14/20\n",
      "7/7 [==============================] - 5s 730ms/step - loss: 0.0227 - accuracy: 1.0000 - val_loss: 0.0041 - val_accuracy: 1.0000\n",
      "Epoch 15/20\n",
      "7/7 [==============================] - 5s 664ms/step - loss: 0.0337 - accuracy: 0.9922 - val_loss: 0.0033 - val_accuracy: 1.0000\n",
      "Epoch 16/20\n",
      "7/7 [==============================] - 5s 663ms/step - loss: 0.0331 - accuracy: 0.9922 - val_loss: 0.0022 - val_accuracy: 1.0000\n",
      "Epoch 17/20\n",
      "7/7 [==============================] - 5s 670ms/step - loss: 0.0184 - accuracy: 0.9922 - val_loss: 0.0016 - val_accuracy: 1.0000\n",
      "Epoch 18/20\n",
      "7/7 [==============================] - 5s 667ms/step - loss: 0.0475 - accuracy: 0.9922 - val_loss: 0.0011 - val_accuracy: 1.0000\n",
      "Epoch 19/20\n",
      "7/7 [==============================] - 5s 669ms/step - loss: 0.0082 - accuracy: 1.0000 - val_loss: 7.1953e-04 - val_accuracy: 1.0000\n",
      "Epoch 20/20\n",
      "7/7 [==============================] - 5s 731ms/step - loss: 0.0211 - accuracy: 1.0000 - val_loss: 5.3527e-04 - val_accuracy: 1.0000\n"
     ]
    }
   ],
   "source": [
    "history = model.fit(train_data, epochs=epochs, validation_data=val_data, shuffle=True)"
   ]
  },
  {
   "cell_type": "markdown",
   "id": "8c7fe477",
   "metadata": {
    "papermill": {
     "duration": 0.019202,
     "end_time": "2024-01-05T02:11:50.417754",
     "exception": false,
     "start_time": "2024-01-05T02:11:50.398552",
     "status": "completed"
    },
    "tags": []
   },
   "source": [
    "# Visualizing Model Performance"
   ]
  },
  {
   "cell_type": "code",
   "execution_count": 6,
   "id": "4ed84377",
   "metadata": {
    "execution": {
     "iopub.execute_input": "2024-01-05T02:11:50.458442Z",
     "iopub.status.busy": "2024-01-05T02:11:50.458066Z",
     "iopub.status.idle": "2024-01-05T02:11:51.048738Z",
     "shell.execute_reply": "2024-01-05T02:11:51.047569Z"
    },
    "papermill": {
     "duration": 0.613745,
     "end_time": "2024-01-05T02:11:51.050971",
     "exception": false,
     "start_time": "2024-01-05T02:11:50.437226",
     "status": "completed"
    },
    "tags": []
   },
   "outputs": [
    {
     "data": {
      "image/png": "[encoded data removed]",
      "text/plain": [
       "<Figure size 640x480 with 1 Axes>"
      ]
     },
     "metadata": {},
     "output_type": "display_data"
    },
    {
     "data": {
      "image/png": "[encoded data removed]",
      "text/plain": [
       "<Figure size 640x480 with 1 Axes>"
      ]
     },
     "metadata": {},
     "output_type": "display_data"
    }
   ],
   "source": [
    "import matplotlib.pyplot as plt\n",
    "\n",
    "plt.plot(range(epochs), history.history['accuracy'], label='Accuracy')\n",
    "plt.plot(range(epochs), history.history['val_accuracy'], label='Validation Accuracy')\n",
    "plt.title('Model Training Accuracy')\n",
    "plt.legend()\n",
    "plt.show()\n",
    "\n",
    "plt.plot(range(10, epochs), history.history['loss'][10:], label='Loss')\n",
    "plt.plot(range(10, epochs), history.history['val_loss'][10:], label='Validation Loss')\n",
    "plt.title('Model Training Loss')\n",
    "plt.legend()\n",
    "plt.show()\n"
   ]
  },
  {
   "cell_type": "code",
   "execution_count": 7,
   "id": "d86375f3",
   "metadata": {
    "execution": {
     "iopub.execute_input": "2024-01-05T02:11:51.094494Z",
     "iopub.status.busy": "2024-01-05T02:11:51.093532Z",
     "iopub.status.idle": "2024-01-05T02:11:51.735891Z",
     "shell.execute_reply": "2024-01-05T02:11:51.734754Z"
    },
    "papermill": {
     "duration": 0.666683,
     "end_time": "2024-01-05T02:11:51.738445",
     "exception": false,
     "start_time": "2024-01-05T02:11:51.071762",
     "status": "completed"
    },
    "tags": []
   },
   "outputs": [
    {
     "name": "stdout",
     "output_type": "stream",
     "text": [
      "4/4 [==============================] - 1s 103ms/step - loss: 5.0258e-04 - accuracy: 1.0000\n"
     ]
    }
   ],
   "source": [
    "results = model.evaluate(test_data)"
   ]
  },
  {
   "cell_type": "markdown",
   "id": "ffab2676",
   "metadata": {
    "papermill": {
     "duration": 0.020622,
     "end_time": "2024-01-05T02:11:51.780631",
     "exception": false,
     "start_time": "2024-01-05T02:11:51.760009",
     "status": "completed"
    },
    "tags": []
   },
   "source": [
    "Model has a 100% accuracy on test data."
   ]
  }
 ],
 "metadata": {
  "kaggle": {
   "accelerator": "none",
   "dataSources": [
    {
     "datasetId": 3636171,
     "sourceId": 6318833,
     "sourceType": "datasetVersion"
    }
   ],
   "dockerImageVersionId": 30626,
   "isGpuEnabled": false,
   "isInternetEnabled": true,
   "language": "python",
   "sourceType": "notebook"
  },
  "kernelspec": {
   "display_name": "Python 3",
   "language": "python",
   "name": "python3"
  },
  "language_info": {
   "codemirror_mode": {
    "name": "ipython",
    "version": 3
   },
   "file_extension": ".py",
   "mimetype": "text/x-python",
   "name": "python",
   "nbconvert_exporter": "python",
   "pygments_lexer": "ipython3",
   "version": "3.10.12"
  },
  "papermill": {
   "default_parameters": {},
   "duration": 136.066091,
   "end_time": "2024-01-05T02:11:53.427071",
   "environment_variables": {},
   "exception": null,
   "input_path": "__notebook__.ipynb",
   "output_path": "__notebook__.ipynb",
   "parameters": {},
   "start_time": "2024-01-05T02:09:37.360980",
   "version": "2.4.0"
  }
 },
 "nbformat": 4,
 "nbformat_minor": 5
}
